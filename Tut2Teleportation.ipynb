{
  "nbformat": 4,
  "nbformat_minor": 0,
  "metadata": {
    "colab": {
      "name": "Tut2Teleportation.ipynb",
      "version": "0.3.2",
      "provenance": []
    },
    "kernelspec": {
      "name": "python3",
      "display_name": "Python 3"
    }
  },
  "cells": [
    {
      "metadata": {
        "id": "2fO4wmEma-Qd",
        "colab_type": "code",
        "colab": {
          "base_uri": "https://localhost:8080/",
          "height": 1268
        },
        "outputId": "effc0077-950c-4616-f8fc-1c5123dfea8e"
      },
      "cell_type": "code",
      "source": [
        "!pip install qiskit"
      ],
      "execution_count": 1,
      "outputs": [
        {
          "output_type": "stream",
          "text": [
            "Collecting qiskit\n",
            "  Downloading https://files.pythonhosted.org/packages/7a/4a/bc00cc835794bb5247146d895586284759fe8e726648cfbb2f977e484bec/qiskit-0.7.2.tar.gz\n",
            "Collecting qiskit-terra<0.8,>=0.7 (from qiskit)\n",
            "\u001b[?25l  Downloading https://files.pythonhosted.org/packages/af/61/b54f52ada993927c93adf8fea565951456f4ea691d6b0adca9ef52a04060/qiskit_terra-0.7.0-cp36-cp36m-manylinux1_x86_64.whl (7.3MB)\n",
            "\u001b[K    100% |████████████████████████████████| 7.3MB 901kB/s \n",
            "\u001b[?25hCollecting qiskit-aer<0.2,>=0.1 (from qiskit)\n",
            "\u001b[?25l  Downloading https://files.pythonhosted.org/packages/19/51/c93d33f5154305d177754507f05d113e13695a93500db38e1224633b9035/qiskit_aer-0.1.1-cp36-cp36m-manylinux1_x86_64.whl (18.5MB)\n",
            "\u001b[K    100% |████████████████████████████████| 18.5MB 1.5MB/s \n",
            "\u001b[?25hRequirement already satisfied: numpy>=1.13 in /usr/local/lib/python3.6/dist-packages (from qiskit-terra<0.8,>=0.7->qiskit) (1.14.6)\n",
            "Collecting sympy>=1.3 (from qiskit-terra<0.8,>=0.7->qiskit)\n",
            "\u001b[?25l  Downloading https://files.pythonhosted.org/packages/dd/f6/ed485ff22efdd7b371d0dbbf6d77ad61c3b3b7e0815a83c89cbb38ce35de/sympy-1.3.tar.gz (5.9MB)\n",
            "\u001b[K    100% |████████████████████████████████| 5.9MB 2.9MB/s \n",
            "\u001b[?25hRequirement already satisfied: scipy!=0.19.1,>=0.19 in /usr/local/lib/python3.6/dist-packages (from qiskit-terra<0.8,>=0.7->qiskit) (1.1.0)\n",
            "Collecting marshmallow-polyfield<4,>=3.2 (from qiskit-terra<0.8,>=0.7->qiskit)\n",
            "  Downloading https://files.pythonhosted.org/packages/fa/ba/6406b8cce3e42b2838d234310c3605627083bbb8f71dcc312c616480fe92/marshmallow_polyfield-3.2-py2.py3-none-any.whl\n",
            "Collecting ply>=3.10 (from qiskit-terra<0.8,>=0.7->qiskit)\n",
            "\u001b[?25l  Downloading https://files.pythonhosted.org/packages/a3/58/35da89ee790598a0700ea49b2a66594140f44dec458c07e8e3d4979137fc/ply-3.11-py2.py3-none-any.whl (49kB)\n",
            "\u001b[K    100% |████████████████████████████████| 51kB 18.5MB/s \n",
            "\u001b[?25hCollecting requests-ntlm>=1.1.0 (from qiskit-terra<0.8,>=0.7->qiskit)\n",
            "  Downloading https://files.pythonhosted.org/packages/03/4b/8b9a1afde8072c4d5710d9fa91433d504325821b038e00237dc8d6d833dc/requests_ntlm-1.1.0-py2.py3-none-any.whl\n",
            "Collecting marshmallow<3,>=2.16.3 (from qiskit-terra<0.8,>=0.7->qiskit)\n",
            "\u001b[?25l  Downloading https://files.pythonhosted.org/packages/9a/3c/4cc463c53136dc503f9ee234c4a6592e1c7411cb362f844e80df70361f29/marshmallow-2.18.0-py2.py3-none-any.whl (50kB)\n",
            "\u001b[K    100% |████████████████████████████████| 51kB 17.9MB/s \n",
            "\u001b[?25hRequirement already satisfied: jsonschema<2.7,>=2.6 in /usr/local/lib/python3.6/dist-packages (from qiskit-terra<0.8,>=0.7->qiskit) (2.6.0)\n",
            "Requirement already satisfied: networkx>=2.2 in /usr/local/lib/python3.6/dist-packages (from qiskit-terra<0.8,>=0.7->qiskit) (2.2)\n",
            "Collecting requests>=2.19 (from qiskit-terra<0.8,>=0.7->qiskit)\n",
            "\u001b[?25l  Downloading https://files.pythonhosted.org/packages/7d/e3/20f3d364d6c8e5d2353c72a67778eb189176f08e873c9900e10c0287b84b/requests-2.21.0-py2.py3-none-any.whl (57kB)\n",
            "\u001b[K    100% |████████████████████████████████| 61kB 21.7MB/s \n",
            "\u001b[?25hRequirement already satisfied: psutil>=5 in /usr/local/lib/python3.6/dist-packages (from qiskit-terra<0.8,>=0.7->qiskit) (5.4.8)\n",
            "Collecting pillow>=4.2.1 (from qiskit-terra<0.8,>=0.7->qiskit)\n",
            "\u001b[?25l  Downloading https://files.pythonhosted.org/packages/85/5e/e91792f198bbc5a0d7d3055ad552bc4062942d27eaf75c3e2783cf64eae5/Pillow-5.4.1-cp36-cp36m-manylinux1_x86_64.whl (2.0MB)\n",
            "\u001b[K    100% |████████████████████████████████| 2.0MB 11.8MB/s \n",
            "\u001b[?25hRequirement already satisfied: mpmath>=0.19 in /usr/local/lib/python3.6/dist-packages (from sympy>=1.3->qiskit-terra<0.8,>=0.7->qiskit) (1.1.0)\n",
            "Collecting cryptography>=1.3 (from requests-ntlm>=1.1.0->qiskit-terra<0.8,>=0.7->qiskit)\n",
            "\u001b[?25l  Downloading https://files.pythonhosted.org/packages/98/71/e632e222f34632e0527dd41799f7847305e701f38f512d81bdf96009bca4/cryptography-2.5-cp34-abi3-manylinux1_x86_64.whl (2.4MB)\n",
            "\u001b[K    100% |████████████████████████████████| 2.4MB 8.6MB/s \n",
            "\u001b[?25hCollecting ntlm-auth>=1.0.2 (from requests-ntlm>=1.1.0->qiskit-terra<0.8,>=0.7->qiskit)\n",
            "  Downloading https://files.pythonhosted.org/packages/8e/5b/4047779fb456b0de503c4acb7b166becf2567efb772abb53998440791d3c/ntlm_auth-1.2.0-py2.py3-none-any.whl\n",
            "Requirement already satisfied: decorator>=4.3.0 in /usr/local/lib/python3.6/dist-packages (from networkx>=2.2->qiskit-terra<0.8,>=0.7->qiskit) (4.3.2)\n",
            "Requirement already satisfied: chardet<3.1.0,>=3.0.2 in /usr/local/lib/python3.6/dist-packages (from requests>=2.19->qiskit-terra<0.8,>=0.7->qiskit) (3.0.4)\n",
            "Requirement already satisfied: idna<2.9,>=2.5 in /usr/local/lib/python3.6/dist-packages (from requests>=2.19->qiskit-terra<0.8,>=0.7->qiskit) (2.6)\n",
            "Requirement already satisfied: certifi>=2017.4.17 in /usr/local/lib/python3.6/dist-packages (from requests>=2.19->qiskit-terra<0.8,>=0.7->qiskit) (2018.11.29)\n",
            "Requirement already satisfied: urllib3<1.25,>=1.21.1 in /usr/local/lib/python3.6/dist-packages (from requests>=2.19->qiskit-terra<0.8,>=0.7->qiskit) (1.22)\n",
            "Collecting asn1crypto>=0.21.0 (from cryptography>=1.3->requests-ntlm>=1.1.0->qiskit-terra<0.8,>=0.7->qiskit)\n",
            "\u001b[?25l  Downloading https://files.pythonhosted.org/packages/ea/cd/35485615f45f30a510576f1a56d1e0a7ad7bd8ab5ed7cdc600ef7cd06222/asn1crypto-0.24.0-py2.py3-none-any.whl (101kB)\n",
            "\u001b[K    100% |████████████████████████████████| 102kB 23.0MB/s \n",
            "\u001b[?25hRequirement already satisfied: cffi!=1.11.3,>=1.8 in /usr/local/lib/python3.6/dist-packages (from cryptography>=1.3->requests-ntlm>=1.1.0->qiskit-terra<0.8,>=0.7->qiskit) (1.11.5)\n",
            "Requirement already satisfied: six>=1.4.1 in /usr/local/lib/python3.6/dist-packages (from cryptography>=1.3->requests-ntlm>=1.1.0->qiskit-terra<0.8,>=0.7->qiskit) (1.11.0)\n",
            "Requirement already satisfied: pycparser in /usr/local/lib/python3.6/dist-packages (from cffi!=1.11.3,>=1.8->cryptography>=1.3->requests-ntlm>=1.1.0->qiskit-terra<0.8,>=0.7->qiskit) (2.19)\n",
            "Building wheels for collected packages: qiskit, sympy\n",
            "  Building wheel for qiskit (setup.py) ... \u001b[?25ldone\n",
            "\u001b[?25h  Running setup.py clean for qiskit\n",
            "  Building wheel for sympy (setup.py) ... \u001b[?25ldone\n",
            "\u001b[?25h  Stored in directory: /root/.cache/pip/wheels/6c/59/86/478e3c0f298368c119095cc5985dedac57c0e35a85c737f823\n",
            "Successfully built sympy\n",
            "Failed to build qiskit\n",
            "\u001b[31mspacy 2.0.18 has requirement numpy>=1.15.0, but you'll have numpy 1.14.6 which is incompatible.\u001b[0m\n",
            "\u001b[31mgoogle-colab 0.0.1a1 has requirement requests~=2.18.0, but you'll have requests 2.21.0 which is incompatible.\u001b[0m\n",
            "\u001b[31mcufflinks 0.14.6 has requirement plotly>=3.0.0, but you'll have plotly 1.12.12 which is incompatible.\u001b[0m\n",
            "Installing collected packages: sympy, marshmallow, marshmallow-polyfield, ply, asn1crypto, cryptography, ntlm-auth, requests, requests-ntlm, pillow, qiskit-terra, qiskit-aer, qiskit\n",
            "  Found existing installation: sympy 1.1.1\n",
            "    Uninstalling sympy-1.1.1:\n",
            "      Successfully uninstalled sympy-1.1.1\n",
            "  Found existing installation: requests 2.18.4\n",
            "    Uninstalling requests-2.18.4:\n",
            "      Successfully uninstalled requests-2.18.4\n",
            "  Found existing installation: Pillow 4.0.0\n",
            "    Uninstalling Pillow-4.0.0:\n",
            "      Successfully uninstalled Pillow-4.0.0\n",
            "  Running setup.py install for qiskit ... \u001b[?25ldone\n",
            "\u001b[?25hSuccessfully installed asn1crypto-0.24.0 cryptography-2.5 marshmallow-2.18.0 marshmallow-polyfield-3.2 ntlm-auth-1.2.0 pillow-5.4.1 ply-3.11 qiskit-0.7.2 qiskit-aer-0.1.1 qiskit-terra-0.7.0 requests-2.21.0 requests-ntlm-1.1.0 sympy-1.3\n"
          ],
          "name": "stdout"
        }
      ]
    },
    {
      "metadata": {
        "id": "sz6MSt0LbOWg",
        "colab_type": "text"
      },
      "cell_type": "markdown",
      "source": [
        "**Exercise: The Teleportation Circuit**\n",
        "\n",
        "Quantum teleportation is a technique for moving quantum states around, even in the abscence of a quantum communications channel linking the sender of the quantum state to the recipient. \n",
        "\n",
        "To perform this, a 3-qubit system is required. The first qubit is the message and the next two are the entangled qubits. The 'message' qubit can be prepared in an arbitrary state. Then, the last two qubits are entangled using the C-NOT gate.\n",
        "\n",
        "A second C-NOT gate is applied with the control qubit as the 'message' qubit and the target qubit as the second qubit. This allows the second qubit to interact with the 'message' qubit. \n",
        "\n",
        "A Hadamard gate is applied to the 'message' qubit. Next, the action of the controlled-X and controlled-Z gate transforms the third qubit into the same state as the 'message' qubit. \n",
        "\n",
        "NOTE: the state of the 'message' qubit is changed in this process.\n",
        "\n"
      ]
    },
    {
      "metadata": {
        "id": "L5u8bOa5bSlk",
        "colab_type": "text"
      },
      "cell_type": "markdown",
      "source": [
        "Algebraic evaluation of the circuit: \n",
        "\n",
        "The state of the message qubit is given by: \n",
        "\n",
        "$$|\\psi\\rangle = \\alpha|0\\rangle + \\beta|1\\rangle $$\n",
        "\n",
        "After a Bell Pair is created with the second and third qubit, the state of the system of qubits is given by:\n",
        "\n",
        "$$(\\alpha|0\\rangle + \\beta|1\\rangle)\\otimes(\\frac{|00\\rangle + |11\\rangle}{\\sqrt{2}}) $$\n",
        "$$ = \\frac{1}{\\sqrt{2}}(\\alpha[|000\\rangle)+|011\\rangle] + \\beta[|100\\rangle + |111\\rangle] )$$ \n",
        "\n",
        "Applying the second C-NOT gate:\n",
        "\n",
        "$$ = \\frac{1}{\\sqrt{2}}(\\alpha[|000\\rangle+|011\\rangle] + \\beta[|110\\rangle + |101\\rangle] )$$ \n",
        "$$ = \\frac{1}{\\sqrt{2}}(\\alpha|000\\rangle+\\alpha|011\\rangle + \\beta|110\\rangle + \\beta|101\\rangle)$$ \n",
        "\n",
        "After some factorisation:\n",
        "\n",
        "$$ = \\frac{1}{\\sqrt{2}}(\\alpha|0\\rangle\\otimes[|00\\rangle+|11\\rangle] + \\beta|1\\rangle \\otimes[|10\\rangle + |01\\rangle])$$ \n",
        "\n",
        "Applying the Hadamard gate to the first qubit:\n",
        "\n",
        "$$ = \\frac{1}{\\sqrt{2}}(\\alpha[\\frac{|0\\rangle + |1\\rangle}{\\sqrt{2}}]\\otimes[|00\\rangle +|11\\rangle] + \\beta[\\frac{|0\\rangle - |1\\rangle}{\\sqrt{2}}] \\otimes[|10\\rangle+|10\\rangle]$$\n",
        "\n",
        "$$ = \\frac{1}{2}[\\alpha|000\\rangle + \\alpha|011\\rangle + \\alpha|100\\rangle + \\alpha|111\\rangle + \\beta|010\\rangle + \\beta|001\\rangle + \\beta|110\\rangle+ \\beta|010\\rangle ]$$\n",
        "\n",
        "After some factorisation:\n",
        "\n",
        "$$ = \\frac{1}{2}[|00\\rangle\\otimes(\\alpha|0\\rangle + \\beta|1\\rangle) +|01\\rangle\\otimes(\\alpha|1\\rangle +\\beta|0\\rangle) + |10\\rangle\\otimes(\\alpha|0\\rangle - \\beta|1\\rangle) +  |11 \\rangle\\otimes(\\alpha|1\\rangle - \\beta|0\\rangle)]$$\n",
        "\n",
        "It can be seen that if the first two qubits are found to be in $|00\\rangle$, only the identity gate needs to be applied to the third qubit to transform the third qubit into $|\\psi\\rangle$.If the first two qubits are found to be in $|01\\rangle$, the X-Gate needs to be applied to the third qubit. If the first two qubits are found to be in $|01\\rangle$, the Z-Gate needs to be applied to the third qubit. If the first two qubits are found to be in $|01\\rangle$, the X-Gate and then the Z-Gate need to be applied to the third qubit. \n",
        "\n",
        "The above operations are implemented using the Controlled-X and the Controlled-Z gates applied to the appropriate qubits. \n",
        "\n",
        "\n",
        "\n"
      ]
    },
    {
      "metadata": {
        "id": "2s58VOVMbDZR",
        "colab_type": "code",
        "colab": {}
      },
      "cell_type": "code",
      "source": [
        "from qiskit import BasicAer\n",
        "from qiskit import QuantumRegister ,ClassicalRegister ,QuantumCircuit ,execute\n",
        "from qiskit.tools.visualization import plot_histogram ,circuit_drawer\n",
        "from numpy import pi"
      ],
      "execution_count": 0,
      "outputs": []
    },
    {
      "metadata": {
        "id": "aI5T4wg1bbCq",
        "colab_type": "code",
        "colab": {}
      },
      "cell_type": "code",
      "source": [
        "qr = QuantumRegister(3)\n",
        "cr = ClassicalRegister(3)\n",
        "qc = QuantumCircuit(qr,cr)"
      ],
      "execution_count": 0,
      "outputs": []
    },
    {
      "metadata": {
        "id": "AHvJgFNHbdPl",
        "colab_type": "code",
        "colab": {
          "base_uri": "https://localhost:8080/",
          "height": 76
        },
        "outputId": "5144fda3-2812-4dd3-9571-353325f9b90c"
      },
      "cell_type": "code",
      "source": [
        "qc.u3(pi/7,13*pi/4,0,qr[0])\n",
        "qc.h(qr[1])\n",
        "qc.cx(qr[1],qr[2])\n",
        "qc.cx(qr[0],qr[1])\n",
        "qc.h(qr[0])\n",
        "qc.cx(qr[1],qr[2])\n",
        "qc.cz(qr[0],qr[2])\n",
        "qc.barrier()\n",
        "\n",
        "qc.measure(qr,cr)"
      ],
      "execution_count": 12,
      "outputs": [
        {
          "output_type": "execute_result",
          "data": {
            "text/plain": [
              "<qiskit.circuit.instructionset.InstructionSet at 0x7f6bdd302780>"
            ]
          },
          "metadata": {
            "tags": []
          },
          "execution_count": 12
        }
      ]
    },
    {
      "metadata": {
        "id": "AeBL9kg2buHt",
        "colab_type": "code",
        "colab": {
          "base_uri": "https://localhost:8080/",
          "height": 284
        },
        "outputId": "5153cf84-e829-424a-c172-fd3abcb94983"
      },
      "cell_type": "code",
      "source": [
        "qc.draw()"
      ],
      "execution_count": 13,
      "outputs": [
        {
          "output_type": "execute_result",
          "data": {
            "text/html": [
              "<pre style=\"word-wrap: normal;white-space: pre;line-height: 15px;\">                   ┌────────────────────┐          ┌───┐    ░       ┌─┐\n",
              "q1_0: |0>──────────┤ U3(0.4488,10.21,0) ├──■───────┤ H ├─■──░───────┤M├\n",
              "         ┌───┐     └────────────────────┘┌─┴─┐     └───┘ │  ░    ┌─┐└╥┘\n",
              "q1_1: |0>┤ H ├──■────────────────────────┤ X ├──■────────┼──░────┤M├─╫─\n",
              "         └───┘┌─┴─┐                      └───┘┌─┴─┐      │  ░ ┌─┐└╥┘ ║ \n",
              "q1_2: |0>─────┤ X ├───────────────────────────┤ X ├──────■──░─┤M├─╫──╫─\n",
              "              └───┘                           └───┘         ░ └╥┘ ║  ║ \n",
              " c1_0: 0 ══════════════════════════════════════════════════════╬══╬══╩═\n",
              "                                                               ║  ║    \n",
              " c1_1: 0 ══════════════════════════════════════════════════════╬══╩════\n",
              "                                                               ║       \n",
              " c1_2: 0 ══════════════════════════════════════════════════════╩═══════\n",
              "                                                                       </pre>"
            ],
            "text/plain": [
              "<qiskit.tools.visualization._text.TextDrawing at 0x7f6bdf5da9b0>"
            ]
          },
          "metadata": {
            "tags": []
          },
          "execution_count": 13
        }
      ]
    },
    {
      "metadata": {
        "id": "Aq12ZKZYbzCO",
        "colab_type": "code",
        "colab": {}
      },
      "cell_type": "code",
      "source": [
        "backend = BasicAer.get_backend(\"qasm_simulator\")\n",
        "job = execute(qc,backend = backend, shots = 8192)"
      ],
      "execution_count": 0,
      "outputs": []
    },
    {
      "metadata": {
        "id": "t02FySFVcggd",
        "colab_type": "code",
        "colab": {
          "base_uri": "https://localhost:8080/",
          "height": 232
        },
        "outputId": "0c37bd0a-fcda-4671-aff7-50186278e615"
      },
      "cell_type": "code",
      "source": [
        "res = job.result()\n",
        "counts1 = res.get_counts()\n",
        "counts1"
      ],
      "execution_count": 16,
      "outputs": [
        {
          "output_type": "stream",
          "text": [
            "/usr/local/lib/python3.6/dist-packages/marshmallow/schema.py:364: ChangedInMarshmallow3Warning: strict=False is not recommended. In marshmallow 3.0, schemas will always be strict. See https://marshmallow.readthedocs.io/en/latest/upgrading.html#schemas-are-always-strict\n",
            "  ChangedInMarshmallow3Warning\n"
          ],
          "name": "stderr"
        },
        {
          "output_type": "execute_result",
          "data": {
            "text/plain": [
              "{'000': 1900,\n",
              " '001': 2007,\n",
              " '010': 1953,\n",
              " '011': 1941,\n",
              " '100': 104,\n",
              " '101': 96,\n",
              " '110': 100,\n",
              " '111': 91}"
            ]
          },
          "metadata": {
            "tags": []
          },
          "execution_count": 16
        }
      ]
    },
    {
      "metadata": {
        "id": "A79QQjcBcq3u",
        "colab_type": "code",
        "colab": {
          "base_uri": "https://localhost:8080/",
          "height": 356
        },
        "outputId": "be899b42-419a-4a54-c26a-e264723c9fc4"
      },
      "cell_type": "code",
      "source": [
        "plot_histogram(counts1)"
      ],
      "execution_count": 17,
      "outputs": [
        {
          "output_type": "execute_result",
          "data": {
            "image/png": "[encoded data removed]",
            "text/plain": [
              "<Figure size 504x360 with 1 Axes>"
            ]
          },
          "metadata": {
            "tags": []
          },
          "execution_count": 17
        }
      ]
    },
    {
      "metadata": {
        "id": "jtVd7w6ucv3f",
        "colab_type": "text"
      },
      "cell_type": "markdown",
      "source": [
        "Now, the analysis of the results of the teleportation can be performed. \n",
        "\n",
        "First, the statevector_simulator is used to see the state that the 'message' qubit was prepared in. "
      ]
    },
    {
      "metadata": {
        "id": "MUrH8zs0cs_t",
        "colab_type": "code",
        "colab": {}
      },
      "cell_type": "code",
      "source": [
        "backend1 = BasicAer.get_backend(\"statevector_simulator\")"
      ],
      "execution_count": 0,
      "outputs": []
    },
    {
      "metadata": {
        "id": "BUpncNCJczk5",
        "colab_type": "code",
        "colab": {}
      },
      "cell_type": "code",
      "source": [
        "qr = QuantumRegister(1)\n",
        "qc = QuantumCircuit(qr,cr)"
      ],
      "execution_count": 0,
      "outputs": []
    },
    {
      "metadata": {
        "id": "3DZfLlBHc3d0",
        "colab_type": "code",
        "colab": {}
      },
      "cell_type": "code",
      "source": [
        "qc.u3(pi/7,13*pi/4,0,qr[0])\n",
        "job = execute(qc,backend=backend1)"
      ],
      "execution_count": 0,
      "outputs": []
    },
    {
      "metadata": {
        "id": "e6F3JfJpc5Rw",
        "colab_type": "code",
        "colab": {
          "base_uri": "https://localhost:8080/",
          "height": 76
        },
        "outputId": "04d1e0b7-ff5d-4b76-f579-ed241de60df2"
      },
      "cell_type": "code",
      "source": [
        "res = job.result()\n",
        "message = res.get_statevector(qc,decimals=3)\n",
        "message"
      ],
      "execution_count": 21,
      "outputs": [
        {
          "output_type": "execute_result",
          "data": {
            "text/plain": [
              "array([ 0.975+0.j   , -0.157-0.157j])"
            ]
          },
          "metadata": {
            "tags": []
          },
          "execution_count": 21
        }
      ]
    },
    {
      "metadata": {
        "id": "Ahp7Idv4c9Sw",
        "colab_type": "text"
      },
      "cell_type": "markdown",
      "source": [
        "The above state vector represents the original superposition that the 'message' qubit was placed in. "
      ]
    },
    {
      "metadata": {
        "id": "IlejstArc6zH",
        "colab_type": "code",
        "colab": {}
      },
      "cell_type": "code",
      "source": [
        "from numpy import abs"
      ],
      "execution_count": 0,
      "outputs": []
    },
    {
      "metadata": {
        "id": "6dKrhvGpc_br",
        "colab_type": "code",
        "colab": {
          "base_uri": "https://localhost:8080/",
          "height": 76
        },
        "outputId": "e76d2190-bce0-4875-976c-a3f100a2c047"
      },
      "cell_type": "code",
      "source": [
        "prob0=(abs(message[0]))**2\n",
        "prob0"
      ],
      "execution_count": 25,
      "outputs": [
        {
          "output_type": "execute_result",
          "data": {
            "text/plain": [
              "0.9506249999999999"
            ]
          },
          "metadata": {
            "tags": []
          },
          "execution_count": 25
        }
      ]
    },
    {
      "metadata": {
        "id": "rYFW2R8adCmR",
        "colab_type": "code",
        "colab": {
          "base_uri": "https://localhost:8080/",
          "height": 76
        },
        "outputId": "60059af9-517f-4cd7-c817-3d4a757d6210"
      },
      "cell_type": "code",
      "source": [
        "prob1=(abs(message[1]))**2\n",
        "prob1"
      ],
      "execution_count": 26,
      "outputs": [
        {
          "output_type": "execute_result",
          "data": {
            "text/plain": [
              "0.049297999999999995"
            ]
          },
          "metadata": {
            "tags": []
          },
          "execution_count": 26
        }
      ]
    },
    {
      "metadata": {
        "id": "kVqCis0WdKgi",
        "colab_type": "text"
      },
      "cell_type": "markdown",
      "source": [
        "Summing over the probablities of the third qubit, after the teleportation has been performed, yields:"
      ]
    },
    {
      "metadata": {
        "id": "caQBO43ldHWb",
        "colab_type": "code",
        "colab": {
          "base_uri": "https://localhost:8080/",
          "height": 76
        },
        "outputId": "b29af14b-afad-4b36-d109-a09df4e1fa17"
      },
      "cell_type": "code",
      "source": [
        "prob_bob_0=0.232+0.245+0.238+0.237\n",
        "prob_bob_0"
      ],
      "execution_count": 29,
      "outputs": [
        {
          "output_type": "execute_result",
          "data": {
            "text/plain": [
              "0.952"
            ]
          },
          "metadata": {
            "tags": []
          },
          "execution_count": 29
        }
      ]
    },
    {
      "metadata": {
        "id": "7SrLrO0NdbNw",
        "colab_type": "code",
        "colab": {
          "base_uri": "https://localhost:8080/",
          "height": 76
        },
        "outputId": "5adfe30b-173d-4b4f-ba81-748300b6e947"
      },
      "cell_type": "code",
      "source": [
        "prob_bob_1=0.013+0.012+0.012+0.011\n",
        "prob_bob_1"
      ],
      "execution_count": 30,
      "outputs": [
        {
          "output_type": "execute_result",
          "data": {
            "text/plain": [
              "0.048"
            ]
          },
          "metadata": {
            "tags": []
          },
          "execution_count": 30
        }
      ]
    },
    {
      "metadata": {
        "id": "TyF9vBWOdnxN",
        "colab_type": "text"
      },
      "cell_type": "markdown",
      "source": [
        "here we see that the probabiliies of the last qubit being 0 or 1 match the initial probabilties of the first qubit, hence we have teleported the message."
      ]
    },
    {
      "metadata": {
        "id": "SGTWpBXOdiXM",
        "colab_type": "code",
        "colab": {}
      },
      "cell_type": "code",
      "source": [
        ""
      ],
      "execution_count": 0,
      "outputs": []
    }
  ]
}