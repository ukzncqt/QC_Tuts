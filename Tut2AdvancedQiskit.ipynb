{
  "nbformat": 4,
  "nbformat_minor": 0,
  "metadata": {
    "colab": {
      "name": "Tut2AdvancedQiskit.ipynb",
      "version": "0.3.2",
      "provenance": [],
      "collapsed_sections": []
    },
    "kernelspec": {
      "name": "python3",
      "display_name": "Python 3"
    }
  },
  "cells": [
    {
      "metadata": {
        "id": "hKXmS8uosWy8",
        "colab_type": "text"
      },
      "cell_type": "markdown",
      "source": [
        "**The IBMQ Composer**\n",
        "\n",
        "The IBMQ Composer is a graphic user interface (GUI) designed by IBM to allow users to construct various quantum algorithms or run other quantum experiments. It provides a easy way to create quantum circuits by dragging and dropping gates. \n",
        "\n",
        "Here is a link to the IBM quantum experience web page: https://www.research.ibm.com/ibm-q/ "
      ]
    },
    {
      "metadata": {
        "id": "Hr7DwAx9R0bz",
        "colab_type": "text"
      },
      "cell_type": "markdown",
      "source": [
        "**The IBMQ Provider**\n",
        "\n",
        "Previously, the Aer Provider was used to run circuits using simulators that run on the user's local device. Another provider that can be used is the IBMQ Provider. This provider allows the user to run circuits on IBM's quantum computers through the cloud. "
      ]
    },
    {
      "metadata": {
        "id": "8yZorvLpuI6v",
        "colab_type": "code",
        "outputId": "d437d0a6-47dd-4e42-e2ee-2704f70875bd",
        "colab": {
          "base_uri": "https://localhost:8080/",
          "height": 598
        }
      },
      "cell_type": "code",
      "source": [
        "!pip install qiskit"
      ],
      "execution_count": 1,
      "outputs": [
        {
          "output_type": "stream",
          "text": [
            "Requirement already satisfied: qiskit in /usr/local/lib/python3.6/dist-packages (0.7.2)\n",
            "Requirement already satisfied: qiskit-terra<0.8,>=0.7 in /usr/local/lib/python3.6/dist-packages (from qiskit) (0.7.0)\n",
            "Requirement already satisfied: qiskit-aer<0.2,>=0.1 in /usr/local/lib/python3.6/dist-packages (from qiskit) (0.1.1)\n",
            "Requirement already satisfied: sympy>=1.3 in /usr/local/lib/python3.6/dist-packages (from qiskit-terra<0.8,>=0.7->qiskit) (1.3)\n",
            "Requirement already satisfied: ply>=3.10 in /usr/local/lib/python3.6/dist-packages (from qiskit-terra<0.8,>=0.7->qiskit) (3.11)\n",
            "Requirement already satisfied: requests>=2.19 in /usr/local/lib/python3.6/dist-packages (from qiskit-terra<0.8,>=0.7->qiskit) (2.21.0)\n",
            "Requirement already satisfied: marshmallow<3,>=2.16.3 in /usr/local/lib/python3.6/dist-packages (from qiskit-terra<0.8,>=0.7->qiskit) (2.18.0)\n",
            "Requirement already satisfied: pillow>=4.2.1 in /usr/local/lib/python3.6/dist-packages (from qiskit-terra<0.8,>=0.7->qiskit) (5.4.1)\n",
            "Requirement already satisfied: psutil>=5 in /usr/local/lib/python3.6/dist-packages (from qiskit-terra<0.8,>=0.7->qiskit) (5.4.8)\n",
            "Requirement already satisfied: requests-ntlm>=1.1.0 in /usr/local/lib/python3.6/dist-packages (from qiskit-terra<0.8,>=0.7->qiskit) (1.1.0)\n",
            "Requirement already satisfied: numpy>=1.13 in /usr/local/lib/python3.6/dist-packages (from qiskit-terra<0.8,>=0.7->qiskit) (1.14.6)\n",
            "Requirement already satisfied: scipy!=0.19.1,>=0.19 in /usr/local/lib/python3.6/dist-packages (from qiskit-terra<0.8,>=0.7->qiskit) (1.1.0)\n",
            "Requirement already satisfied: jsonschema<2.7,>=2.6 in /usr/local/lib/python3.6/dist-packages (from qiskit-terra<0.8,>=0.7->qiskit) (2.6.0)\n",
            "Requirement already satisfied: marshmallow-polyfield<4,>=3.2 in /usr/local/lib/python3.6/dist-packages (from qiskit-terra<0.8,>=0.7->qiskit) (3.2)\n",
            "Requirement already satisfied: networkx>=2.2 in /usr/local/lib/python3.6/dist-packages (from qiskit-terra<0.8,>=0.7->qiskit) (2.2)\n",
            "Requirement already satisfied: mpmath>=0.19 in /usr/local/lib/python3.6/dist-packages (from sympy>=1.3->qiskit-terra<0.8,>=0.7->qiskit) (1.1.0)\n",
            "Requirement already satisfied: certifi>=2017.4.17 in /usr/local/lib/python3.6/dist-packages (from requests>=2.19->qiskit-terra<0.8,>=0.7->qiskit) (2018.11.29)\n",
            "Requirement already satisfied: urllib3<1.25,>=1.21.1 in /usr/local/lib/python3.6/dist-packages (from requests>=2.19->qiskit-terra<0.8,>=0.7->qiskit) (1.22)\n",
            "Requirement already satisfied: idna<2.9,>=2.5 in /usr/local/lib/python3.6/dist-packages (from requests>=2.19->qiskit-terra<0.8,>=0.7->qiskit) (2.6)\n",
            "Requirement already satisfied: chardet<3.1.0,>=3.0.2 in /usr/local/lib/python3.6/dist-packages (from requests>=2.19->qiskit-terra<0.8,>=0.7->qiskit) (3.0.4)\n",
            "Requirement already satisfied: ntlm-auth>=1.0.2 in /usr/local/lib/python3.6/dist-packages (from requests-ntlm>=1.1.0->qiskit-terra<0.8,>=0.7->qiskit) (1.2.0)\n",
            "Requirement already satisfied: cryptography>=1.3 in /usr/local/lib/python3.6/dist-packages (from requests-ntlm>=1.1.0->qiskit-terra<0.8,>=0.7->qiskit) (2.5)\n",
            "Requirement already satisfied: decorator>=4.3.0 in /usr/local/lib/python3.6/dist-packages (from networkx>=2.2->qiskit-terra<0.8,>=0.7->qiskit) (4.3.2)\n",
            "Requirement already satisfied: asn1crypto>=0.21.0 in /usr/local/lib/python3.6/dist-packages (from cryptography>=1.3->requests-ntlm>=1.1.0->qiskit-terra<0.8,>=0.7->qiskit) (0.24.0)\n",
            "Requirement already satisfied: cffi!=1.11.3,>=1.8 in /usr/local/lib/python3.6/dist-packages (from cryptography>=1.3->requests-ntlm>=1.1.0->qiskit-terra<0.8,>=0.7->qiskit) (1.11.5)\n",
            "Requirement already satisfied: six>=1.4.1 in /usr/local/lib/python3.6/dist-packages (from cryptography>=1.3->requests-ntlm>=1.1.0->qiskit-terra<0.8,>=0.7->qiskit) (1.11.0)\n",
            "Requirement already satisfied: pycparser in /usr/local/lib/python3.6/dist-packages (from cffi!=1.11.3,>=1.8->cryptography>=1.3->requests-ntlm>=1.1.0->qiskit-terra<0.8,>=0.7->qiskit) (2.19)\n"
          ],
          "name": "stdout"
        }
      ]
    },
    {
      "metadata": {
        "id": "MhDxazUpzzzJ",
        "colab_type": "code",
        "colab": {}
      },
      "cell_type": "code",
      "source": [
        "from qiskit import IBMQ"
      ],
      "execution_count": 0,
      "outputs": []
    },
    {
      "metadata": {
        "id": "V0EMQKiB3-pC",
        "colab_type": "code",
        "outputId": "c38ae0fb-0cb3-4cab-876e-cea9c96e22c5",
        "colab": {
          "base_uri": "https://localhost:8080/",
          "height": 110
        }
      },
      "cell_type": "code",
      "source": [
        "IBMQ.backends()"
      ],
      "execution_count": 47,
      "outputs": [
        {
          "output_type": "execute_result",
          "data": {
            "text/plain": [
              "[<IBMQBackend('ibmqx4') from IBMQ()>,\n",
              " <IBMQBackend('ibmq_16_melbourne') from IBMQ()>,\n",
              " <IBMQBackend('ibmq_qasm_simulator') from IBMQ()>]"
            ]
          },
          "metadata": {
            "tags": []
          },
          "execution_count": 47
        }
      ]
    },
    {
      "metadata": {
        "id": "TGMR_wIMUUCi",
        "colab_type": "text"
      },
      "cell_type": "markdown",
      "source": [
        "The *backends*() function returns a list of all the available backends. Above, a call to this function returned an empty list since there are no backends available. The *stored_accounts*() function returns a list of all the enabled user accounts on the IBMQ website. Since an account has not been enabled, this function also returns an empty list.  "
      ]
    },
    {
      "metadata": {
        "id": "RFlv0-C-4B76",
        "colab_type": "code",
        "outputId": "9a1d4dd7-7e32-424a-d55f-d8c54d304849",
        "colab": {
          "base_uri": "https://localhost:8080/",
          "height": 76
        }
      },
      "cell_type": "code",
      "source": [
        "IBMQ.stored_accounts()"
      ],
      "execution_count": 48,
      "outputs": [
        {
          "output_type": "execute_result",
          "data": {
            "text/plain": [
              "[]"
            ]
          },
          "metadata": {
            "tags": []
          },
          "execution_count": 48
        }
      ]
    },
    {
      "metadata": {
        "id": "_2zkqSKWV_vM",
        "colab_type": "text"
      },
      "cell_type": "markdown",
      "source": [
        "To initialize an account and allow  access to the cloud based computers, the *enable_account*() method is used. This function requires an API token obtained from the IBMQ website. "
      ]
    },
    {
      "metadata": {
        "id": "H8cZWXNqbcZq",
        "colab_type": "code",
        "colab": {
          "base_uri": "https://localhost:8080/",
          "height": 112
        },
        "outputId": "170be02f-e465-4506-d29c-c47b795a893c"
      },
      "cell_type": "code",
      "source": [
        "IBMQ.enable_account(\"7099aa657902a0c2289d1f31dfcd2166e8491773275a1c891362c73facd343a1aa9d4c77c27328bfca8de4ec42047f50c90ff7df5af406807251b7c7cab96223\")"
      ],
      "execution_count": 49,
      "outputs": [
        {
          "output_type": "stream",
          "text": [
            "/usr/local/lib/python3.6/dist-packages/qiskit/providers/ibmq/ibmqprovider.py:251: UserWarning: Credentials are already in use.\n",
            "  warnings.warn('Credentials are already in use.')\n"
          ],
          "name": "stderr"
        }
      ]
    },
    {
      "metadata": {
        "id": "sHkZWhnodOQS",
        "colab_type": "code",
        "outputId": "1f141456-d397-48c7-a9b1-335decba95ad",
        "colab": {
          "base_uri": "https://localhost:8080/",
          "height": 110
        }
      },
      "cell_type": "code",
      "source": [
        "IBMQ.backends()"
      ],
      "execution_count": 50,
      "outputs": [
        {
          "output_type": "execute_result",
          "data": {
            "text/plain": [
              "[<IBMQBackend('ibmqx4') from IBMQ()>,\n",
              " <IBMQBackend('ibmq_16_melbourne') from IBMQ()>,\n",
              " <IBMQBackend('ibmq_qasm_simulator') from IBMQ()>]"
            ]
          },
          "metadata": {
            "tags": []
          },
          "execution_count": 50
        }
      ]
    },
    {
      "metadata": {
        "id": "3jBZfcvzXU6z",
        "colab_type": "text"
      },
      "cell_type": "markdown",
      "source": [
        "Once an account has been loaded, the *load_accounts*() function activates the account. "
      ]
    },
    {
      "metadata": {
        "id": "aBdlich7dQ70",
        "colab_type": "code",
        "colab": {}
      },
      "cell_type": "code",
      "source": [
        "IBMQ.load_accounts()"
      ],
      "execution_count": 0,
      "outputs": []
    },
    {
      "metadata": {
        "id": "SMZQlWcddgMD",
        "colab_type": "code",
        "outputId": "2dfbd635-fd8f-4f5c-94a3-fd6d1f3f4692",
        "colab": {
          "base_uri": "https://localhost:8080/",
          "height": 112
        }
      },
      "cell_type": "code",
      "source": [
        "IBMQ.backends(operational=True, simulator=False)"
      ],
      "execution_count": 52,
      "outputs": [
        {
          "output_type": "execute_result",
          "data": {
            "text/plain": [
              "[<IBMQBackend('ibmqx4') from IBMQ()>,\n",
              " <IBMQBackend('ibmq_16_melbourne') from IBMQ()>]"
            ]
          },
          "metadata": {
            "tags": []
          },
          "execution_count": 52
        }
      ]
    },
    {
      "metadata": {
        "id": "Vl0uddS0YlPK",
        "colab_type": "text"
      },
      "cell_type": "markdown",
      "source": [
        "Using the *backends*() function with parameters provides a filtered list of available backends.\n",
        "\n",
        "The backend to be used is specified by the *get_backend*() function. "
      ]
    },
    {
      "metadata": {
        "id": "RPzdEMyAdjK6",
        "colab_type": "code",
        "colab": {}
      },
      "cell_type": "code",
      "source": [
        "backend=IBMQ.get_backend('ibmqx4')"
      ],
      "execution_count": 0,
      "outputs": []
    },
    {
      "metadata": {
        "id": "s200MijYZk7L",
        "colab_type": "text"
      },
      "cell_type": "markdown",
      "source": [
        "At any point in the program,  the *name*() function returns the backend that is being used. "
      ]
    },
    {
      "metadata": {
        "id": "Htz56SvHdp_-",
        "colab_type": "code",
        "outputId": "b6fad77c-d953-483a-f74b-550b3430af45",
        "colab": {
          "base_uri": "https://localhost:8080/",
          "height": 76
        }
      },
      "cell_type": "code",
      "source": [
        "backend.name()"
      ],
      "execution_count": 54,
      "outputs": [
        {
          "output_type": "execute_result",
          "data": {
            "text/plain": [
              "'ibmqx4'"
            ]
          },
          "metadata": {
            "tags": []
          },
          "execution_count": 54
        }
      ]
    },
    {
      "metadata": {
        "id": "20KRUz4LZwxO",
        "colab_type": "text"
      },
      "cell_type": "markdown",
      "source": [
        "The *status*() function returns all the properties of the backend being used. "
      ]
    },
    {
      "metadata": {
        "id": "oEM67j7qdv7E",
        "colab_type": "code",
        "outputId": "668a8396-ca58-4b34-bfba-9cef48b98078",
        "colab": {
          "base_uri": "https://localhost:8080/",
          "height": 76
        }
      },
      "cell_type": "code",
      "source": [
        "backend.status()"
      ],
      "execution_count": 67,
      "outputs": [
        {
          "output_type": "execute_result",
          "data": {
            "text/plain": [
              "BackendStatus(backend_name='ibmqx4', backend_version='1.0.0', operational=True, pending_jobs=6, status_msg='active')"
            ]
          },
          "metadata": {
            "tags": []
          },
          "execution_count": 67
        }
      ]
    },
    {
      "metadata": {
        "id": "b3NptKSiaEtL",
        "colab_type": "text"
      },
      "cell_type": "markdown",
      "source": [
        "Now, a circuit can be created using the same procedure used when using the Aer provider. "
      ]
    },
    {
      "metadata": {
        "id": "P6y0FGbWdyII",
        "colab_type": "code",
        "colab": {}
      },
      "cell_type": "code",
      "source": [
        "from qiskit import execute, QuantumRegister, ClassicalRegister, QuantumCircuit"
      ],
      "execution_count": 0,
      "outputs": []
    },
    {
      "metadata": {
        "id": "0VflPOtneNlv",
        "colab_type": "code",
        "colab": {}
      },
      "cell_type": "code",
      "source": [
        "q = QuantumRegister(2)\n",
        "c = ClassicalRegister(2)\n",
        "\n",
        "qc = QuantumCircuit(q,c)"
      ],
      "execution_count": 0,
      "outputs": []
    },
    {
      "metadata": {
        "id": "_WUDlwsFeYM_",
        "colab_type": "code",
        "outputId": "5f6d7a54-d081-43a0-8c53-8e0e2388e6eb",
        "colab": {
          "base_uri": "https://localhost:8080/",
          "height": 76
        }
      },
      "cell_type": "code",
      "source": [
        "qc.h(q[0])\n",
        "qc.cx(q[0],q[1])\n",
        "\n",
        "qc.barrier(q)\n",
        "qc.measure(q,c)"
      ],
      "execution_count": 58,
      "outputs": [
        {
          "output_type": "execute_result",
          "data": {
            "text/plain": [
              "<qiskit.circuit.instructionset.InstructionSet at 0x7fcce6e36c50>"
            ]
          },
          "metadata": {
            "tags": []
          },
          "execution_count": 58
        }
      ]
    },
    {
      "metadata": {
        "id": "J3dy8GYdeip9",
        "colab_type": "code",
        "outputId": "b75d3e98-0678-48fe-9a4a-8af0ccf91b2b",
        "colab": {
          "base_uri": "https://localhost:8080/",
          "height": 234
        }
      },
      "cell_type": "code",
      "source": [
        "qc.draw()"
      ],
      "execution_count": 59,
      "outputs": [
        {
          "output_type": "execute_result",
          "data": {
            "text/html": [
              "<pre style=\"word-wrap: normal;white-space: pre;line-height: 15px;\">         ┌───┐      ░    ┌─┐\n",
              "q1_0: |0>┤ H ├──■───░────┤M├\n",
              "         └───┘┌─┴─┐ ░ ┌─┐└╥┘\n",
              "q1_1: |0>─────┤ X ├─░─┤M├─╫─\n",
              "              └───┘ ░ └╥┘ ║ \n",
              " c1_0: 0 ══════════════╬══╩═\n",
              "                       ║    \n",
              " c1_1: 0 ══════════════╩════\n",
              "                            </pre>"
            ],
            "text/plain": [
              "<qiskit.tools.visualization._text.TextDrawing at 0x7fcce6e36b00>"
            ]
          },
          "metadata": {
            "tags": []
          },
          "execution_count": 59
        }
      ]
    },
    {
      "metadata": {
        "id": "MaVNwFIQej-G",
        "colab_type": "code",
        "colab": {}
      },
      "cell_type": "code",
      "source": [
        "job=execute(qc,backend=backend,shots=1024)"
      ],
      "execution_count": 0,
      "outputs": []
    },
    {
      "metadata": {
        "id": "hmgYigmQer_R",
        "colab_type": "code",
        "outputId": "42ace4ce-642d-4b8f-f03b-bab76cceaf0e",
        "colab": {
          "base_uri": "https://localhost:8080/",
          "height": 76
        }
      },
      "cell_type": "code",
      "source": [
        "job.status()"
      ],
      "execution_count": 68,
      "outputs": [
        {
          "output_type": "execute_result",
          "data": {
            "text/plain": [
              "<JobStatus.DONE: 'job has successfully run'>"
            ]
          },
          "metadata": {
            "tags": []
          },
          "execution_count": 68
        }
      ]
    },
    {
      "metadata": {
        "id": "XY3ggmX_etGO",
        "colab_type": "code",
        "colab": {
          "base_uri": "https://localhost:8080/",
          "height": 110
        },
        "outputId": "f002302a-42d9-4aff-8c5e-817b3f39a3cc"
      },
      "cell_type": "code",
      "source": [
        "res=job.result()\n",
        "res.get_counts()"
      ],
      "execution_count": 69,
      "outputs": [
        {
          "output_type": "stream",
          "text": [
            "/usr/local/lib/python3.6/dist-packages/marshmallow/schema.py:364: ChangedInMarshmallow3Warning: strict=False is not recommended. In marshmallow 3.0, schemas will always be strict. See https://marshmallow.readthedocs.io/en/latest/upgrading.html#schemas-are-always-strict\n",
            "  ChangedInMarshmallow3Warning\n"
          ],
          "name": "stderr"
        },
        {
          "output_type": "execute_result",
          "data": {
            "text/plain": [
              "{'00': 475, '01': 74, '10': 58, '11': 417}"
            ]
          },
          "metadata": {
            "tags": []
          },
          "execution_count": 69
        }
      ]
    },
    {
      "metadata": {
        "id": "M7oXfhnofO4C",
        "colab_type": "code",
        "colab": {}
      },
      "cell_type": "code",
      "source": [
        "from qiskit.tools.visualization import plot_histogram"
      ],
      "execution_count": 0,
      "outputs": []
    },
    {
      "metadata": {
        "id": "tb9slXrhfUVb",
        "colab_type": "code",
        "outputId": "18ff561c-40ae-483b-eefc-19b588443507",
        "colab": {
          "base_uri": "https://localhost:8080/",
          "height": 350
        }
      },
      "cell_type": "code",
      "source": [
        "plot_histogram(res.get_counts())"
      ],
      "execution_count": 71,
      "outputs": [
        {
          "output_type": "execute_result",
          "data": {
            "image/png": "[encoded data removed]",
            "text/plain": [
              "<Figure size 504x360 with 1 Axes>"
            ]
          },
          "metadata": {
            "tags": []
          },
          "execution_count": 71
        }
      ]
    },
    {
      "metadata": {
        "id": "y4Bij7ySzrsJ",
        "colab_type": "code",
        "colab": {}
      },
      "cell_type": "code",
      "source": [
        ""
      ],
      "execution_count": 0,
      "outputs": []
    }
  ]
}